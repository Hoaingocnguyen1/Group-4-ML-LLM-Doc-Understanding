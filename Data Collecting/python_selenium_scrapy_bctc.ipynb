{
 "cells": [
  {
   "cell_type": "markdown",
   "id": "95cece95-3e24-44d0-833c-4130d6957493",
   "metadata": {},
   "source": [
    "<h1 align=\"center\"><b><span style=\"color: firebrick\">\"Crawling\" Financial Statement data from cafef.vn by SELENIUM lib</span></b></h1>"
   ]
  },
  {
   "cell_type": "markdown",
   "id": "e2e95208-2767-44b6-9357-2937af09d663",
   "metadata": {
    "tags": []
   },
   "source": [
    "<p>\n",
    "    <h3>Goal: </h3>\n",
    "    Stockcode: <b>Any stockcode</b> <br>\n",
    "    Year: <b>2019-2023</b><br>\n",
    "    Results: <b>3 types of FS -> 3 file excel: Stockcode_BS.xlsx, Stockcode_IS.xlsx, Stockcode_CF.xlsx</b>\n",
    "</p>"
   ]
  },
  {
   "cell_type": "markdown",
   "id": "1543ded7-117b-42ba-9469-e96c047e840f",
   "metadata": {},
   "source": [
    "## <span style=\"color: blue\">1. Essential libraries:</span>\n",
    "\n",
    "**pip install selenium**\n",
    "\n",
    "**pip install webdriver_manager**\n",
    "\n",
    "**pip install pandas**\n",
    "\n",
    "**pip install xlsxwriter**"
   ]
  },
  {
   "cell_type": "code",
   "execution_count": 1,
   "id": "123f34e0-a721-4479-a608-bfb587d0692f",
   "metadata": {},
   "outputs": [],
   "source": [
    "from selenium import webdriver\n",
    "\n",
    "from selenium.webdriver.chrome.service import Service as ChromeService\n",
    "from webdriver_manager.chrome import ChromeDriverManager\n",
    "\n",
    "from selenium.webdriver.firefox.service import Service as FirefoxService\n",
    "from webdriver_manager.firefox import GeckoDriverManager\n",
    "\n",
    "from selenium.webdriver.chrome.options import Options as ChromeOptions\n",
    "from selenium.webdriver.common.by import By\n",
    "import pandas as pd\n",
    "\n",
    "import os"
   ]
  },
  {
   "cell_type": "markdown",
   "id": "93f005c1-ceda-4a25-b08f-5362be874f0a",
   "metadata": {},
   "source": [
    "## <span style=\"color: blue\">2. Load web driver</span>"
   ]
  },
  {
   "cell_type": "code",
   "execution_count": null,
   "id": "fe447fb2-cea7-495d-b99a-a139ebb811ba",
   "metadata": {
    "tags": []
   },
   "outputs": [],
   "source": [
    "# Chrome\n",
    "service = ChromeService(ChromeDriverManager().install())\n",
    "chrome_options = ChromeOptions()\n",
    "chrome_options.add_argument(\"--headless=new\")\n",
    "driver_auto = webdriver.Chrome(service=service, options=chrome_options)\n",
    "print(driver_auto.service.path)\n",
    "# driver_auto.get(\"https://vnexpress.net\")"
   ]
  },
  {
   "cell_type": "markdown",
   "id": "c5443feb-bafc-48ae-8382-7d1b7e33de93",
   "metadata": {},
   "source": [
    "## <span style=\"color: blue\">3. Crawling data</span>"
   ]
  },
  {
   "cell_type": "markdown",
   "id": "d4f094d2-bac3-4ee8-a82a-bfae604c5e30",
   "metadata": {},
   "source": [
    "https://s.cafef.vn/bao-cao-tai-chinh/FPT/BSheet/2023/0/0/0/bao-cao-tai-chinh-cong-ty.chn\n",
    "\n",
    "https://s.cafef.vn/bao-cao-tai-chinh/FPT/IncSta/2023/0/0/0/ket-qua-hoat-dong-kinh-doanh-cong-ty.chn\n",
    "\n",
    "https://s.cafef.vn/bao-cao-tai-chinh/FPT/CashFlow/2023/0/0/0/ket-qua-hoat-dong-kinh-doanh-cong-ty.chn"
   ]
  },
  {
   "cell_type": "code",
   "execution_count": 3,
   "id": "1d0fd3a3-6a76-4731-9d32-d5936223a97e",
   "metadata": {},
   "outputs": [],
   "source": [
    "def get_elements_value(items, convert_numeric=True):\n",
    "    _ls = []\n",
    "    if convert_numeric == False:\n",
    "        for x in items:\n",
    "            _ls.append(x.text)\n",
    "    else:\n",
    "        for x in items:\n",
    "            num = x.text.strip().replace(',', '')\n",
    "            if num.isnumeric():\n",
    "                _ls.append(int(num))\n",
    "            else:\n",
    "                _ls.append(num)\n",
    "    return _ls\n",
    "\n",
    "def year_col_process(driver, col):\n",
    "    x_path = f\"//*[@id='tableContent']/tbody/tr/td[{col}]\"\n",
    "    rows = driver.find_elements(By.XPATH, x_path)\n",
    "    return rows\n",
    "\n",
    "def get_report_url(ticker, year, report_type):\n",
    "    if report_type.upper() == 'BS':\n",
    "        return f\"https://s.cafef.vn/bao-cao-tai-chinh/{ticker}/BSheet/{year}/0/0/0/bao-cao-tai-chinh-cong-ty.chn\"\n",
    "    if report_type.upper() == 'IS':\n",
    "        return f\"https://s.cafef.vn/bao-cao-tai-chinh/{ticker}/IncSta/{year}/0/0/0/ket-qua-hoat-dong-kinh-doanh-cong-ty.chn\"\n",
    "    if report_type.upper() == 'CF':\n",
    "        return f\"https://s.cafef.vn/bao-cao-tai-chinh/{ticker}/CashFlow/{year}/0/0/0/ket-qua-hoat-dong-kinh-doanh-cong-ty.chn\"\n",
    "    \n",
    "    return \"\"\n",
    "    \n",
    "def get_excel_data(driver, ticker, from_year, to_year, report_type, save_path=None):\n",
    "    year = to_year    \n",
    "    data = {}\n",
    "    criteria_names = {}\n",
    "    runable = True\n",
    "    while(runable):\n",
    "        url = get_report_url(ticker, year, report_type)\n",
    "        print(url)\n",
    "        driver.get(url)\n",
    "        driver.implicitly_wait(5)\n",
    "\n",
    "        if 'criteria' not in criteria_names:\n",
    "            name_elements = year_col_process(driver, 1)\n",
    "            criteria_names['criteria'] = get_elements_value(name_elements, False)\n",
    "\n",
    "        year_elements = driver.find_elements(By.XPATH, \"//*[@id='tblGridData']/tbody/tr/td\")\n",
    "        index_cols = {}\n",
    "        i = 1\n",
    "        for item in year_elements:\n",
    "            str_item = item.text.strip()\n",
    "            if str_item.isnumeric():\n",
    "                index_cols[str_item] = i\n",
    "            i += 1\n",
    "\n",
    "        index_cols = dict(sorted(index_cols.items(), reverse=True))\n",
    "\n",
    "        y = 0\n",
    "        for key in index_cols:\n",
    "            col = index_cols[key]\n",
    "            items = year_col_process(driver, col)\n",
    "            data[key] = get_elements_value(items)\n",
    "            print(key)\n",
    "\n",
    "            y = int(key)\n",
    "            if y == from_year:\n",
    "                runable = False\n",
    "                break\n",
    "\n",
    "        if runable == True:\n",
    "            year = y - 1\n",
    "\n",
    "    data = dict(sorted(data.items()))  # Sort dict\n",
    "    data = criteria_names | data       # Merge two dicts into one\n",
    "    df = pd.DataFrame(data)\n",
    "\n",
    "    if save_path is None:\n",
    "        save_as = f\"{ticker}_{report_type}.xlsx\"\n",
    "    else:\n",
    "        save_as = f\"{save_path}/{ticker}_{report_type}.xlsx\"\n",
    "\n",
    "    writer = pd.ExcelWriter(save_as,\n",
    "                           engine='xlsxwriter',\n",
    "                           engine_kwargs={'options': {'strings_to_numbers': True}})\n",
    "    df.to_excel(writer, sheet_name=report_type, index=False)\n",
    "    writer.close()\n",
    "\n",
    "    return 1"
   ]
  },
  {
   "cell_type": "code",
   "execution_count": null,
   "id": "76aebaa1-5fb5-47c4-b434-2ff52f99d5a5",
   "metadata": {},
   "outputs": [],
   "source": [
    "#customize ticker to get data\n",
    "TICKERS = ['...']\n",
    "TO_YEAR = 2023\n",
    "LOOK_BACK = 5\n",
    "FROM_YEAR = TO_YEAR - LOOK_BACK + 1\n",
    "report_types = ['BS', 'IS', 'CF']\n",
    "for TICKER in TICKERS:\n",
    "    for report in report_types:\n",
    "        if report == 'BS':\n",
    "            save_path = 'Data/BS'\n",
    "            get_excel_data(driver_auto, TICKER, FROM_YEAR, TO_YEAR, report, save_path)\n",
    "        elif report == 'IS':\n",
    "            save_path = 'Data/IS'\n",
    "            get_excel_data(driver_auto, TICKER, FROM_YEAR, TO_YEAR, report, save_path)\n",
    "        if report == 'CF':\n",
    "            save_path = 'Data/CF'\n",
    "            get_excel_data(driver_auto, TICKER, FROM_YEAR, TO_YEAR, report, save_path)\n",
    "\n",
    "driver_auto.quit()\n",
    "os.startfile(os.getcwd())"
   ]
  }
 ],
 "metadata": {
  "kernelspec": {
   "display_name": "Python 3 (ipykernel)",
   "language": "python",
   "name": "python3"
  },
  "language_info": {
   "codemirror_mode": {
    "name": "ipython",
    "version": 3
   },
   "file_extension": ".py",
   "mimetype": "text/x-python",
   "name": "python",
   "nbconvert_exporter": "python",
   "pygments_lexer": "ipython3",
   "version": "3.12.5"
  }
 },
 "nbformat": 4,
 "nbformat_minor": 5
}
